{
 "cells": [
  {
   "cell_type": "code",
   "execution_count": 212,
   "id": "1ba94245-58ba-4908-8270-2f66114b9e04",
   "metadata": {},
   "outputs": [],
   "source": [
    "## Load Data\n",
    "data = [num.replace(\"\\n\",\"\") for num in open('input.txt').readlines()]"
   ]
  },
  {
   "cell_type": "code",
   "execution_count": 278,
   "id": "caee3973-4898-41a2-9623-d1a8625a43e3",
   "metadata": {},
   "outputs": [
    {
     "name": "stdout",
     "output_type": "stream",
     "text": [
      "Answer for Part 1: 54605\n"
     ]
    }
   ],
   "source": [
    "import re\n",
    "\n",
    "total = 0\n",
    "def add(str):\n",
    "    global total\n",
    "    total += (int(str[0])*10 + int(str[-1]))\n",
    "    \n",
    "[add(\"\".join(re.findall(r'\\d', str))) for str in data]\n",
    "\n",
    "print(\"Answer for Part 1: \" + str(total))\n"
   ]
  },
  {
   "cell_type": "code",
   "execution_count": 277,
   "id": "cee0dec1-e3ff-49ed-87df-7301de031f93",
   "metadata": {},
   "outputs": [
    {
     "name": "stdout",
     "output_type": "stream",
     "text": [
      "Answer for Part 2: 55429\n"
     ]
    }
   ],
   "source": [
    "words_to_numbers = {\n",
    "    'one': '1',\n",
    "    'two': '2',\n",
    "    'three': '3',\n",
    "    'four': '4',\n",
    "    'five': '5',\n",
    "    'six': '6',\n",
    "    'seven': '7',\n",
    "    'eight': '8',\n",
    "    'nine': '9',\n",
    "}\n",
    "total_2 = 0\n",
    "def process(str):\n",
    "    global total_2\n",
    "    res = re.findall(r'(?=(\\d|' + '|'.join(words_to_numbers.keys()) + '))', str)\n",
    "    res = [int(num) if len(num) == 1 else int(words_to_numbers[num]) for num in res]\n",
    "    total_2 += (int(res[0])*10 + int(res[-1]))\n",
    "    \n",
    "[process(str) for str in data]    \n",
    "print(\"Answer for Part 2: \" + str(total_2))\n"
   ]
  }
 ],
 "metadata": {
  "kernelspec": {
   "display_name": "Python 3 (ipykernel)",
   "language": "python",
   "name": "python3"
  },
  "language_info": {
   "codemirror_mode": {
    "name": "ipython",
    "version": 3
   },
   "file_extension": ".py",
   "mimetype": "text/x-python",
   "name": "python",
   "nbconvert_exporter": "python",
   "pygments_lexer": "ipython3",
   "version": "3.9.6"
  }
 },
 "nbformat": 4,
 "nbformat_minor": 5
}
